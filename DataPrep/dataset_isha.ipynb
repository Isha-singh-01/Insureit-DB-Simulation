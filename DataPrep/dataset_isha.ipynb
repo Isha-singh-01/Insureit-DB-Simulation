{
 "cells": [
  {
   "cell_type": "code",
   "execution_count": 1,
   "id": "1312f6aa-4cd5-486f-b514-172b270a59f4",
   "metadata": {},
   "outputs": [],
   "source": [
    "import pandas as pd"
   ]
  },
  {
   "cell_type": "code",
   "execution_count": 2,
   "id": "aa5734e5-30e6-4072-b832-75ca91ab0c04",
   "metadata": {},
   "outputs": [],
   "source": [
    "from mysql.connector import connect, Error\n",
    "from getpass import getpass"
   ]
  },
  {
   "cell_type": "code",
   "execution_count": 3,
   "id": "8ba85339-2d65-49cb-b0e1-26c99449f629",
   "metadata": {},
   "outputs": [
    {
     "name": "stdin",
     "output_type": "stream",
     "text": [
      "Enter your username root\n",
      "Enter your password Anything123#\n"
     ]
    }
   ],
   "source": [
    "try:\n",
    "    conn = connect (\n",
    "       host = 'localhost',\n",
    "       username = input('Enter your username'),\n",
    "       password = input('Enter your password'),\n",
    "       database = 'insurit'\n",
    "    )\n",
    "except Error as e:\n",
    "    print(e)"
   ]
  },
  {
   "cell_type": "markdown",
   "id": "0508f8d1-3b08-4337-a13d-d3d7fff3d78a",
   "metadata": {},
   "source": [
    "**DDL - Customer**\n",
    "\n",
    "CREATE TABLE IF NOT EXISTS Customer (<br>\r\n",
    "  Customer_id integer PRIMARY KEY<br>,\r\n",
    "  Name varchar(255<br>),\r\n",
    "  Phone varchar(25<br>5),\r\n",
    "  Email varchar(2<br>55),\r\n",
    "  Address varchar(<br>255),\r\n",
    "  Driving_license varchar(255)\r\n",
    ");"
   ]
  },
  {
   "cell_type": "code",
   "execution_count": 4,
   "id": "310fd2e7-7d36-4a08-a911-729d7d59e98c",
   "metadata": {},
   "outputs": [],
   "source": [
    "customer = pd.read_csv('customer.csv')"
   ]
  },
  {
   "cell_type": "code",
   "execution_count": 5,
   "id": "35c0dc0b-a394-4a93-b7fd-249b65c1db78",
   "metadata": {},
   "outputs": [
    {
     "data": {
      "text/html": [
       "<div>\n",
       "<style scoped>\n",
       "    .dataframe tbody tr th:only-of-type {\n",
       "        vertical-align: middle;\n",
       "    }\n",
       "\n",
       "    .dataframe tbody tr th {\n",
       "        vertical-align: top;\n",
       "    }\n",
       "\n",
       "    .dataframe thead th {\n",
       "        text-align: right;\n",
       "    }\n",
       "</style>\n",
       "<table border=\"1\" class=\"dataframe\">\n",
       "  <thead>\n",
       "    <tr style=\"text-align: right;\">\n",
       "      <th></th>\n",
       "      <th>Customer_id</th>\n",
       "      <th>Name</th>\n",
       "      <th>Phone</th>\n",
       "      <th>Email</th>\n",
       "      <th>Address</th>\n",
       "      <th>Driving_license</th>\n",
       "      <th>Age</th>\n",
       "    </tr>\n",
       "  </thead>\n",
       "  <tbody>\n",
       "    <tr>\n",
       "      <th>0</th>\n",
       "      <td>58082</td>\n",
       "      <td>Alfred Balshen</td>\n",
       "      <td>140-400-3125</td>\n",
       "      <td>abalshen10@bloglines.com</td>\n",
       "      <td>0 Glendale Parkway</td>\n",
       "      <td>Yes</td>\n",
       "      <td>58</td>\n",
       "    </tr>\n",
       "    <tr>\n",
       "      <th>1</th>\n",
       "      <td>74341</td>\n",
       "      <td>Cello Fassan</td>\n",
       "      <td>467-460-7623</td>\n",
       "      <td>cfassan1c@google.com.br</td>\n",
       "      <td>70873 Ludington Court</td>\n",
       "      <td>No</td>\n",
       "      <td>66</td>\n",
       "    </tr>\n",
       "    <tr>\n",
       "      <th>2</th>\n",
       "      <td>77471</td>\n",
       "      <td>Guthrie Cortese</td>\n",
       "      <td>770-414-1691</td>\n",
       "      <td>gcortesep@about.com</td>\n",
       "      <td>0077 Sheridan Drive</td>\n",
       "      <td>No</td>\n",
       "      <td>65</td>\n",
       "    </tr>\n",
       "    <tr>\n",
       "      <th>3</th>\n",
       "      <td>78932</td>\n",
       "      <td>Dorena Kingaby</td>\n",
       "      <td>370-179-1371</td>\n",
       "      <td>dkingaby4@printfriendly.com</td>\n",
       "      <td>13765 Petterle Circle</td>\n",
       "      <td>Yes</td>\n",
       "      <td>54</td>\n",
       "    </tr>\n",
       "    <tr>\n",
       "      <th>4</th>\n",
       "      <td>94613</td>\n",
       "      <td>Cassandra Veitch</td>\n",
       "      <td>312-814-1819</td>\n",
       "      <td>cveitchc@cbslocal.com</td>\n",
       "      <td>850 Monument Avenue</td>\n",
       "      <td>Yes</td>\n",
       "      <td>31</td>\n",
       "    </tr>\n",
       "  </tbody>\n",
       "</table>\n",
       "</div>"
      ],
      "text/plain": [
       "   Customer_id              Name         Phone                        Email  \\\n",
       "0        58082    Alfred Balshen  140-400-3125     abalshen10@bloglines.com   \n",
       "1        74341      Cello Fassan  467-460-7623      cfassan1c@google.com.br   \n",
       "2        77471   Guthrie Cortese  770-414-1691          gcortesep@about.com   \n",
       "3        78932    Dorena Kingaby  370-179-1371  dkingaby4@printfriendly.com   \n",
       "4        94613  Cassandra Veitch  312-814-1819        cveitchc@cbslocal.com   \n",
       "\n",
       "                 Address Driving_license  Age  \n",
       "0     0 Glendale Parkway             Yes   58  \n",
       "1  70873 Ludington Court              No   66  \n",
       "2    0077 Sheridan Drive              No   65  \n",
       "3  13765 Petterle Circle             Yes   54  \n",
       "4    850 Monument Avenue             Yes   31  "
      ]
     },
     "execution_count": 5,
     "metadata": {},
     "output_type": "execute_result"
    }
   ],
   "source": [
    "customer.head()"
   ]
  },
  {
   "cell_type": "code",
   "execution_count": 6,
   "id": "443f3bfd-6905-4f50-9be4-0a6c06517787",
   "metadata": {},
   "outputs": [
    {
     "data": {
      "text/plain": [
       "(50, 7)"
      ]
     },
     "execution_count": 6,
     "metadata": {},
     "output_type": "execute_result"
    }
   ],
   "source": [
    "customer.shape"
   ]
  },
  {
   "cell_type": "code",
   "execution_count": 7,
   "id": "d5d18c06-7e95-4d56-a52d-ab8f2878c58c",
   "metadata": {
    "scrolled": true
   },
   "outputs": [
    {
     "name": "stdout",
     "output_type": "stream",
     "text": [
      "INSERT INTO Customer VALUES (58082,'Alfred Balshen','140-400-3125','abalshen10@bloglines.com','0 Glendale Parkway','Yes',58);\n",
      "INSERT INTO Customer VALUES (74341,'Cello Fassan','467-460-7623','cfassan1c@google.com.br','70873 Ludington Court','No',66);\n",
      "INSERT INTO Customer VALUES (77471,'Guthrie Cortese','770-414-1691','gcortesep@about.com','0077 Sheridan Drive','No',65);\n",
      "INSERT INTO Customer VALUES (78932,'Dorena Kingaby','370-179-1371','dkingaby4@printfriendly.com','13765 Petterle Circle','Yes',54);\n",
      "INSERT INTO Customer VALUES (94613,'Cassandra Veitch','312-814-1819','cveitchc@cbslocal.com','850 Monument Avenue','Yes',31);\n",
      "INSERT INTO Customer VALUES (109075,'Darrel Gounot','993-434-7131','dgounotw@gizmodo.com','4 West Way','Yes',42);\n",
      "INSERT INTO Customer VALUES (114971,'Reeva Kupisz','300-253-6630','rkupisz15@moonfruit.com','6910 Bluestem Park','Yes',62);\n",
      "INSERT INTO Customer VALUES (144402,'Dasha Hiscoe','262-608-3656','dhiscoe18@livejournal.com','6 Northfield Drive','No',18);\n",
      "INSERT INTO Customer VALUES (166248,'Gisela Kretchmer','668-244-2155','gkretchmerr@list-manage.com','64 Pawling Way','No',78);\n",
      "INSERT INTO Customer VALUES (174408,'Harri Paolo','790-698-5891','hpaolox@marriott.com','3 Cordelia Center','No',48);\n",
      "INSERT INTO Customer VALUES (176254,'Correna Stitch','602-865-3223','cstitchj@tripod.com','15296 Bartillon Park','Yes',69);\n",
      "INSERT INTO Customer VALUES (249650,'Curry Riggs','895-961-5847','criggs1d@independent.co.uk','3 Spenser Hill','No',27);\n",
      "INSERT INTO Customer VALUES (289060,'Aundrea Abrahmer','470-635-1811','aabrahmerq@yelp.com','600 Haas Terrace','No',67);\n",
      "INSERT INTO Customer VALUES (293654,'Thomasin Boddymead','867-190-2098','tboddymeadu@domainmarket.com','618 Hanover Street','Yes',51);\n",
      "INSERT INTO Customer VALUES (319355,'Leda Liffe','768-317-1479','lliffe5@sun.com','17870 Oxford Plaza','Yes',35);\n",
      "INSERT INTO Customer VALUES (336850,'Arda Calderhead','139-697-7506','acalderheadi@indiatimes.com','736 Sauthoff Point','Yes',76);\n",
      "INSERT INTO Customer VALUES (345273,'Josee Honeywood','223-375-2439','jhoneywood19@engadget.com','6048 Spaight Parkway','No',71);\n",
      "INSERT INTO Customer VALUES (352841,'Roderigo Sends','865-535-4858','rsends1@elegantthemes.com','73 Kenwood Terrace','Yes',75);\n",
      "INSERT INTO Customer VALUES (358893,'Kara-lynn Dallaway','579-654-3410','kdallaway13@bbc.co.uk','4 Milwaukee Park','Yes',54);\n",
      "INSERT INTO Customer VALUES (365390,'Wilfred Joel','632-327-2233','wjoel16@whitehouse.gov','450 Beilfuss Junction','Yes',74);\n",
      "INSERT INTO Customer VALUES (389080,'Maurita Kleinplatz','152-738-5550','mkleinplatzh@vimeo.com','69920 Golf View Terrace','No',69);\n",
      "INSERT INTO Customer VALUES (415216,'Nonnah Trass','370-533-6961','ntrass1a@apache.org','46327 Ludington Place','No',24);\n",
      "INSERT INTO Customer VALUES (492977,'Darb Tomsen','658-767-5430','dtomseno@mashable.com','31 Forest Run Alley','No',80);\n",
      "INSERT INTO Customer VALUES (499661,'Edy Toulamain','302-814-3607','etoulamain11@irs.gov','17892 Fairview Junction','No',20);\n",
      "INSERT INTO Customer VALUES (532909,'Flo Mackett','412-351-4643','fmackettv@princeton.edu','06 Longview Street','Yes',53);\n",
      "INSERT INTO Customer VALUES (538409,'Alyse Volleth','977-218-2551','avolleth7@hhs.gov','10 Kipling Court','No',24);\n",
      "INSERT INTO Customer VALUES (554593,'Germain Metzig','782-318-0312','gmetzig2@discuz.net','94 Hoepker Hill','No',50);\n",
      "INSERT INTO Customer VALUES (555849,'Rochette Dowglass','231-251-7850','rdowglassm@exblog.jp','7906 Marcy Place','Yes',25);\n",
      "INSERT INTO Customer VALUES (591642,'Derrick Vowells','336-654-2002','dvowellst@cyberchimps.com','77236 Hazelcrest Trail','No',76);\n",
      "INSERT INTO Customer VALUES (621200,'Augie Chene','745-190-9290','achenel@omniture.com','766 4th Parkway','Yes',53);\n",
      "INSERT INTO Customer VALUES (628418,'Sianna Scay','128-774-9848','sscayd@nps.gov','9230 Waxwing Hill','Yes',40);\n",
      "INSERT INTO Customer VALUES (632251,'Bendicty Gogay','162-986-3633','bgogayy@toplist.cz','164 Forest Plaza','Yes',29);\n",
      "INSERT INTO Customer VALUES (638484,'Angie Attow','343-925-7380','aattowk@mapy.cz','05 Summerview Junction','Yes',68);\n",
      "INSERT INTO Customer VALUES (640537,'Constanta Beresfore','453-864-6762','cberesfore9@cargocollective.com','35432 Charing Cross Avenue','No',31);\n",
      "INSERT INTO Customer VALUES (719439,'Hailey Titchener','160-664-3603','htitchener6@cnet.com','33085 Meadow Vale Way','Yes',66);\n",
      "INSERT INTO Customer VALUES (733572,'Dmitri Simmen','228-899-5566','dsimmen1b@hibu.com','505 Gateway Street','No',72);\n",
      "INSERT INTO Customer VALUES (778711,'Hattie Kevern','564-480-9848','hkevern3@nyu.edu','40 Valley Edge Circle','Yes',44);\n",
      "INSERT INTO Customer VALUES (830875,'Hendrika Keynes','174-384-6234','hkeyness@businessinsider.com','1 Sommers Way','No',45);\n",
      "INSERT INTO Customer VALUES (847339,'Brittney Mash','690-401-9216','bmashb@nationalgeographic.com','24753 Walton Trail','Yes',51);\n",
      "INSERT INTO Customer VALUES (867938,'Ricki Rayner','643-725-5750','rrayner14@alexa.com','956 Loftsgordon Point','Yes',54);\n",
      "INSERT INTO Customer VALUES (871428,'Elfreda Callander','143-883-7368','ecallandera@gnu.org','8828 Forest Run Avenue','No',80);\n",
      "INSERT INTO Customer VALUES (872585,'Karilynn Seymour','207-292-0041','kseymour17@blogtalkradio.com','2 East Parkway','Yes',36);\n",
      "INSERT INTO Customer VALUES (915790,'Erina Neligan','755-787-5609','eneligang@delicious.com','7 Summit Trail','Yes',33);\n",
      "INSERT INTO Customer VALUES (930301,'Hoebart Guidone','751-282-1295','hguidonef@hubpages.com','78 Thompson Hill','No',66);\n",
      "INSERT INTO Customer VALUES (950610,'Hilary Pockett','278-453-0517','hpockett12@dailymail.co.uk','3323 International Road','Yes',22);\n",
      "INSERT INTO Customer VALUES (972654,'Berkly OGlessane','326-742-8192','boglessanen@chicagotribune.com','42236 Clove Plaza','Yes',31);\n",
      "INSERT INTO Customer VALUES (974101,'Carlo Grimm','786-476-8508','cgrimme@house.gov','601 Upham Center','Yes',42);\n",
      "INSERT INTO Customer VALUES (979749,'Thalia Raitie','846-557-5060','traitie8@comcast.net','3 Melody Circle','No',39);\n",
      "INSERT INTO Customer VALUES (981115,'Antonius Freschini','600-340-9348','afreschiniz@behance.net','610 Transport Parkway','Yes',80);\n",
      "INSERT INTO Customer VALUES (987673,'Bidget Keaton','778-475-2740','bkeaton0@netvibes.com','4134 Jenifer Circle','Yes',56);\n"
     ]
    }
   ],
   "source": [
    "for Customer_id,Name,Phone,Email,Address,Driving_license,Age in customer.values.tolist():\n",
    "    print(\"INSERT INTO Customer VALUES ({},'{}','{}','{}','{}','{}',{});\".format(Customer_id,Name,Phone,Email,Address,Driving_license,Age))"
   ]
  },
  {
   "cell_type": "markdown",
   "id": "ca3eee45-0015-4977-8e97-e02ec61ba353",
   "metadata": {},
   "source": [
    "**DDL - Agents:**\n",
    "\n",
    "CREATE TABLE IF NOT EXISTS Agents( <br>\r\n",
    "  Agent_id integer PRIMARY KEY <br>,\r\n",
    "  Name varchar(255<br>),\r\n",
    "  Email varchar(25<br>5),\r\n",
    "  Phone varchar(2<br>55),\r\n",
    "  Salary in <br>teger\r\n",
    ");"
   ]
  },
  {
   "cell_type": "code",
   "execution_count": 11,
   "id": "c419bfc5-211a-46b8-84e2-9cf8b4e3f113",
   "metadata": {},
   "outputs": [],
   "source": [
    "agents = pd.read_csv('AGENTS.csv')"
   ]
  },
  {
   "cell_type": "code",
   "execution_count": 12,
   "id": "90982eba-81e7-4eb7-afa1-f3b1fcf4eea8",
   "metadata": {},
   "outputs": [
    {
     "data": {
      "text/html": [
       "<div>\n",
       "<style scoped>\n",
       "    .dataframe tbody tr th:only-of-type {\n",
       "        vertical-align: middle;\n",
       "    }\n",
       "\n",
       "    .dataframe tbody tr th {\n",
       "        vertical-align: top;\n",
       "    }\n",
       "\n",
       "    .dataframe thead th {\n",
       "        text-align: right;\n",
       "    }\n",
       "</style>\n",
       "<table border=\"1\" class=\"dataframe\">\n",
       "  <thead>\n",
       "    <tr style=\"text-align: right;\">\n",
       "      <th></th>\n",
       "      <th>Agent_id</th>\n",
       "      <th>Name</th>\n",
       "      <th>Phone</th>\n",
       "      <th>Email</th>\n",
       "      <th>Salary</th>\n",
       "    </tr>\n",
       "  </thead>\n",
       "  <tbody>\n",
       "    <tr>\n",
       "      <th>0</th>\n",
       "      <td>6768</td>\n",
       "      <td>Brunhilda Smyley</td>\n",
       "      <td>611-265-3125</td>\n",
       "      <td>bsmyley2@topsy.com</td>\n",
       "      <td>547082</td>\n",
       "    </tr>\n",
       "    <tr>\n",
       "      <th>1</th>\n",
       "      <td>13041</td>\n",
       "      <td>Raddie Basson</td>\n",
       "      <td>560-368-3460</td>\n",
       "      <td>rbassona@psu.edu</td>\n",
       "      <td>300977</td>\n",
       "    </tr>\n",
       "    <tr>\n",
       "      <th>2</th>\n",
       "      <td>33645</td>\n",
       "      <td>Worden Rosedale</td>\n",
       "      <td>342-776-4301</td>\n",
       "      <td>wrosedalec@over-blog.com</td>\n",
       "      <td>163238</td>\n",
       "    </tr>\n",
       "    <tr>\n",
       "      <th>3</th>\n",
       "      <td>52121</td>\n",
       "      <td>Kaitlin Ruter</td>\n",
       "      <td>188-177-5814</td>\n",
       "      <td>kruter3@wikimedia.org</td>\n",
       "      <td>525745</td>\n",
       "    </tr>\n",
       "    <tr>\n",
       "      <th>4</th>\n",
       "      <td>69259</td>\n",
       "      <td>Bonnibelle Manchett</td>\n",
       "      <td>839-488-0561</td>\n",
       "      <td>bmanchett9@buzzfeed.com</td>\n",
       "      <td>552776</td>\n",
       "    </tr>\n",
       "  </tbody>\n",
       "</table>\n",
       "</div>"
      ],
      "text/plain": [
       "   Agent_id                 Name         Phone                     Email  \\\n",
       "0      6768     Brunhilda Smyley  611-265-3125        bsmyley2@topsy.com   \n",
       "1     13041        Raddie Basson  560-368-3460          rbassona@psu.edu   \n",
       "2     33645      Worden Rosedale  342-776-4301  wrosedalec@over-blog.com   \n",
       "3     52121        Kaitlin Ruter  188-177-5814     kruter3@wikimedia.org   \n",
       "4     69259  Bonnibelle Manchett  839-488-0561   bmanchett9@buzzfeed.com   \n",
       "\n",
       "   Salary  \n",
       "0  547082  \n",
       "1  300977  \n",
       "2  163238  \n",
       "3  525745  \n",
       "4  552776  "
      ]
     },
     "execution_count": 12,
     "metadata": {},
     "output_type": "execute_result"
    }
   ],
   "source": [
    "agents.head()"
   ]
  },
  {
   "cell_type": "code",
   "execution_count": 13,
   "id": "a67b9fce-2a30-458f-8c30-d75408649599",
   "metadata": {},
   "outputs": [
    {
     "data": {
      "text/plain": [
       "(13, 5)"
      ]
     },
     "execution_count": 13,
     "metadata": {},
     "output_type": "execute_result"
    }
   ],
   "source": [
    "agents.shape"
   ]
  },
  {
   "cell_type": "code",
   "execution_count": 15,
   "id": "fb36fdb2-0e64-4e8c-b551-9db7c0eed195",
   "metadata": {},
   "outputs": [
    {
     "name": "stdout",
     "output_type": "stream",
     "text": [
      "INSERT INTO Agents VALUES (6768,'Brunhilda Smyley','bsmyley2@topsy.com','611-265-3125',547082);\n",
      "INSERT INTO Agents VALUES (13041,'Raddie Basson','rbassona@psu.edu','560-368-3460',300977);\n",
      "INSERT INTO Agents VALUES (33645,'Worden Rosedale','wrosedalec@over-blog.com','342-776-4301',163238);\n",
      "INSERT INTO Agents VALUES (52121,'Kaitlin Ruter','kruter3@wikimedia.org','188-177-5814',525745);\n",
      "INSERT INTO Agents VALUES (69259,'Bonnibelle Manchett','bmanchett9@buzzfeed.com','839-488-0561',552776);\n",
      "INSERT INTO Agents VALUES (73812,'Bertha Gibbe','bgibbe5@mapquest.com','688-502-8799',820523);\n",
      "INSERT INTO Agents VALUES (78600,'Veronika Pestricke','vpestrickeb@hhs.gov','832-194-4030',295584);\n",
      "INSERT INTO Agents VALUES (80340,'Lynnell Pixton','lpixton1@yellowbook.com','297-990-1742',852715);\n",
      "INSERT INTO Agents VALUES (85926,'Joshuah Devas','jdevas4@google.es','820-918-3141',734363);\n",
      "INSERT INTO Agents VALUES (92085,'Erinn Minchindon','eminchindon7@theatlantic.com','436-379-1334',318714);\n",
      "INSERT INTO Agents VALUES (92900,'Rhonda Mayhead','rmayhead8@bloomberg.com','881-274-4756',400885);\n",
      "INSERT INTO Agents VALUES (95189,'Stefa Cours','scours6@odnoklassniki.ru','882-723-7290',755473);\n",
      "INSERT INTO Agents VALUES (97444,'Eolanda Tillerton','etillerton0@nydailynews.com','530-528-4376',512292);\n"
     ]
    }
   ],
   "source": [
    "for Agent_id,Name,Phone,Email,Salary in agents.values.tolist():\n",
    "    print(\"INSERT INTO Agents VALUES ({},'{}','{}','{}',{});\".format(Agent_id,Name,Email,Phone,Salary))"
   ]
  },
  {
   "cell_type": "markdown",
   "id": "3c7e2e2e-4135-417b-99c4-0b60c65eba15",
   "metadata": {},
   "source": [
    "**DDL - AutoPolicyDetail:**\n",
    "\n",
    "CREATE TABLE IF NOT EXISTS AutoPolicy_detail(<br>\r\n",
    "  Auto_Policy_id integer PRIMARY KEY<br>,\r\n",
    "  Name varchar(255<br>),\r\n",
    "  Type varchar(25<br>5),\r\n",
    "  Description varchar(2<br>55),\r\n",
    "  Policy_active_flag varchar(<br>255),\r\n",
    "  Sum_assured in<br>teger,\r\n",
    "  Tenure i<br>nteger,\r\n",
    "  Policy_type varchar(255)\r\n",
    ");"
   ]
  },
  {
   "cell_type": "code",
   "execution_count": 15,
   "id": "ade0c3fb-8cbd-4097-8830-cdd425e61736",
   "metadata": {},
   "outputs": [],
   "source": [
    "auto = pd.read_csv('auto_policy_detail.csv')"
   ]
  },
  {
   "cell_type": "code",
   "execution_count": 16,
   "id": "b811704a-2792-4e8e-80c8-85047a2ef2e2",
   "metadata": {},
   "outputs": [
    {
     "data": {
      "text/html": [
       "<div>\n",
       "<style scoped>\n",
       "    .dataframe tbody tr th:only-of-type {\n",
       "        vertical-align: middle;\n",
       "    }\n",
       "\n",
       "    .dataframe tbody tr th {\n",
       "        vertical-align: top;\n",
       "    }\n",
       "\n",
       "    .dataframe thead th {\n",
       "        text-align: right;\n",
       "    }\n",
       "</style>\n",
       "<table border=\"1\" class=\"dataframe\">\n",
       "  <thead>\n",
       "    <tr style=\"text-align: right;\">\n",
       "      <th></th>\n",
       "      <th>Policy_id</th>\n",
       "      <th>Name</th>\n",
       "      <th>Type</th>\n",
       "      <th>Description</th>\n",
       "      <th>Policy_active_flag</th>\n",
       "      <th>Sum_assured</th>\n",
       "      <th>Tenure</th>\n",
       "      <th>Policy_type</th>\n",
       "    </tr>\n",
       "  </thead>\n",
       "  <tbody>\n",
       "    <tr>\n",
       "      <th>0</th>\n",
       "      <td>111</td>\n",
       "      <td>Comprehensive Car Care</td>\n",
       "      <td>Sedan</td>\n",
       "      <td>This policy covers all types of sedans and off...</td>\n",
       "      <td>Active</td>\n",
       "      <td>50000</td>\n",
       "      <td>12</td>\n",
       "      <td>Auto</td>\n",
       "    </tr>\n",
       "    <tr>\n",
       "      <th>1</th>\n",
       "      <td>112</td>\n",
       "      <td>Off-Road Adventure Shield</td>\n",
       "      <td>SUV</td>\n",
       "      <td>Designed for SUVs and off-road vehicles, this ...</td>\n",
       "      <td>Active</td>\n",
       "      <td>70000</td>\n",
       "      <td>24</td>\n",
       "      <td>Auto</td>\n",
       "    </tr>\n",
       "    <tr>\n",
       "      <th>2</th>\n",
       "      <td>113</td>\n",
       "      <td>Oriental Motor Plan</td>\n",
       "      <td>Motorbike</td>\n",
       "      <td>Tailored for motorcycles, this policy covers d...</td>\n",
       "      <td>Active</td>\n",
       "      <td>30000</td>\n",
       "      <td>12</td>\n",
       "      <td>Auto</td>\n",
       "    </tr>\n",
       "    <tr>\n",
       "      <th>3</th>\n",
       "      <td>114</td>\n",
       "      <td>Classic Car Elegance</td>\n",
       "      <td>Vintage Cars</td>\n",
       "      <td>Geared towards vintage and classic cars, this ...</td>\n",
       "      <td>Inactive</td>\n",
       "      <td>100000</td>\n",
       "      <td>60</td>\n",
       "      <td>Auto</td>\n",
       "    </tr>\n",
       "    <tr>\n",
       "      <th>4</th>\n",
       "      <td>115</td>\n",
       "      <td>Electric Vehicle EcoShield</td>\n",
       "      <td>Electric Cars</td>\n",
       "      <td>Tailored for electric cars, this policy covers...</td>\n",
       "      <td>Active</td>\n",
       "      <td>60000</td>\n",
       "      <td>24</td>\n",
       "      <td>Auto</td>\n",
       "    </tr>\n",
       "  </tbody>\n",
       "</table>\n",
       "</div>"
      ],
      "text/plain": [
       "   Policy_id                        Name           Type  \\\n",
       "0        111      Comprehensive Car Care          Sedan   \n",
       "1        112   Off-Road Adventure Shield            SUV   \n",
       "2        113         Oriental Motor Plan      Motorbike   \n",
       "3        114        Classic Car Elegance   Vintage Cars   \n",
       "4        115  Electric Vehicle EcoShield  Electric Cars   \n",
       "\n",
       "                                         Description Policy_active_flag  \\\n",
       "0  This policy covers all types of sedans and off...             Active   \n",
       "1  Designed for SUVs and off-road vehicles, this ...             Active   \n",
       "2  Tailored for motorcycles, this policy covers d...             Active   \n",
       "3  Geared towards vintage and classic cars, this ...           Inactive   \n",
       "4  Tailored for electric cars, this policy covers...             Active   \n",
       "\n",
       "   Sum_assured  Tenure Policy_type  \n",
       "0        50000      12        Auto  \n",
       "1        70000      24        Auto  \n",
       "2        30000      12        Auto  \n",
       "3       100000      60        Auto  \n",
       "4        60000      24        Auto  "
      ]
     },
     "execution_count": 16,
     "metadata": {},
     "output_type": "execute_result"
    }
   ],
   "source": [
    "auto.head()"
   ]
  },
  {
   "cell_type": "code",
   "execution_count": 31,
   "id": "0f1a0127-ba53-466b-80c0-09b3761d1c19",
   "metadata": {},
   "outputs": [
    {
     "data": {
      "text/plain": [
       "(12, 8)"
      ]
     },
     "execution_count": 31,
     "metadata": {},
     "output_type": "execute_result"
    }
   ],
   "source": [
    "auto.shape"
   ]
  },
  {
   "cell_type": "code",
   "execution_count": 17,
   "id": "eb527c85-157c-4451-9850-614693d89302",
   "metadata": {},
   "outputs": [
    {
     "name": "stdout",
     "output_type": "stream",
     "text": [
      "INSERT INTO AutoPolicy_detail VALUES (111,'Comprehensive Car Care','Sedan','This policy covers all types of sedans and offers comprehensive protection, including coverage for accidents, theft, natural disasters, and medical expenses.','Active',50000,12,'Auto');\n",
      "INSERT INTO AutoPolicy_detail VALUES (112,'Off-Road Adventure Shield','SUV','Designed for SUVs and off-road vehicles, this policy provides specialized coverage for damages incurred during off-road adventures, including collisions, rollovers, and towing expenses.','Active',70000,24,'Auto');\n",
      "INSERT INTO AutoPolicy_detail VALUES (113,'Oriental Motor Plan','Motorbike','Tailored for motorcycles, this policy covers damages resulting from accidents, theft, and third-party liabilities, ensuring the freedom of the open road with peace of mind.','Active',30000,12,'Auto');\n",
      "INSERT INTO AutoPolicy_detail VALUES (114,'Classic Car Elegance','Vintage Cars','Geared towards vintage and classic cars, this policy offers extensive coverage for restoration costs, market value, and special roadside assistance, preserving the elegance of your cherished automobile.','Inactive',100000,60,'Auto');\n",
      "INSERT INTO AutoPolicy_detail VALUES (115,'Electric Vehicle EcoShield','Electric Cars','Tailored for electric cars, this policy covers battery damage, charging equipment, and specialized repairs, promoting eco-friendly driving with dedicated insurance support.','Active',60000,24,'Auto');\n",
      "INSERT INTO AutoPolicy_detail VALUES (116,'Family safety plan','Sedan','This policy emphasizes safety, covering child seat replacements, medical expenses for passengers, and roadside assistance for families on the go.','Active',50000,12,'Auto');\n",
      "INSERT INTO AutoPolicy_detail VALUES (117,'Luxury Sedan Prestige Coverage','Sedan','Catering to luxury sedans, this policy offers specialized coverage for high-end interiors, technology systems, and concierge services, ensuring that every aspect of your luxury driving experience is protected','Active',100000,24,'Auto');\n",
      "INSERT INTO AutoPolicy_detail VALUES (118,'SafeDrive','Motorbike','Premium policy offering high coverage limits, including coverage for uninsured motorists and roadside assistance.','Active',100000,24,'Auto');\n",
      "INSERT INTO AutoPolicy_detail VALUES (119,'Guardian Auto Insurance','Electric Cars','Short-term policy with comprehensive coverage, ideal for temporary needs such as rental cars or seasonal driving.','Inactive',60000,12,'Auto');\n",
      "INSERT INTO AutoPolicy_detail VALUES (120,'DriveSure Insuranc','SUV','Policy tailored for frequent travelers, offering coverage for rental cars and drivers in multiple states.','Active',80000,12,'Auto');\n",
      "INSERT INTO AutoPolicy_detail VALUES (121,'Liberty Auto Assurance','Sedan & SUV','Standard coverage for collisions and comprehensive damages, with optional add-ons for enhanced protection.','Active',50000,12,'Auto');\n",
      "INSERT INTO AutoPolicy_detail VALUES (122,'ABC Plan','Sedan & SUV','Basic coverage for liability and medical expenses, suitable for low-risk drivers.','Inactive',40000,12,'Auto');\n"
     ]
    }
   ],
   "source": [
    "for Policy_id,Name,Type,Description,Policy_active_flag,Sum_assured,Tenure,Policy_type in auto.values.tolist():\n",
    "    print(\"INSERT INTO AutoPolicy_detail VALUES ({},'{}','{}','{}','{}',{},{},'{}');\".format(Policy_id,Name,Type,Description,Policy_active_flag,Sum_assured,Tenure,Policy_type))"
   ]
  },
  {
   "cell_type": "markdown",
   "id": "ea1c1437-f598-40e7-a203-7e06c1b884c6",
   "metadata": {},
   "source": [
    "**DDL - HomePolicyDetail:**\n",
    "\n",
    "CREATE TABLE IF NOT EXISTS HomePolicy_detail (<br>\r\n",
    "  Home_Policy_id integer PRIMARY KEY<br>,\r\n",
    "  Name varchar(255<br>),\r\n",
    "  Type varchar(25<br>5),\r\n",
    "  Description varchar(2<br>55),\r\n",
    "  Policy_active_flag varchar(<br>255),\r\n",
    "  Sum_assured in<br>teger,\r\n",
    "  Tenure i<br>nteger,\r\n",
    "  Policy_type varchar(255)\r\n",
    ");"
   ]
  },
  {
   "cell_type": "code",
   "execution_count": 18,
   "id": "9153bdc9-2f7a-4f48-9e3e-1cc44ee52a9f",
   "metadata": {},
   "outputs": [],
   "source": [
    "home = pd.read_csv('home.csv')"
   ]
  },
  {
   "cell_type": "code",
   "execution_count": 19,
   "id": "10a2645e-2880-4127-a076-afbcb0004392",
   "metadata": {},
   "outputs": [
    {
     "data": {
      "text/html": [
       "<div>\n",
       "<style scoped>\n",
       "    .dataframe tbody tr th:only-of-type {\n",
       "        vertical-align: middle;\n",
       "    }\n",
       "\n",
       "    .dataframe tbody tr th {\n",
       "        vertical-align: top;\n",
       "    }\n",
       "\n",
       "    .dataframe thead th {\n",
       "        text-align: right;\n",
       "    }\n",
       "</style>\n",
       "<table border=\"1\" class=\"dataframe\">\n",
       "  <thead>\n",
       "    <tr style=\"text-align: right;\">\n",
       "      <th></th>\n",
       "      <th>Policy_id</th>\n",
       "      <th>Name</th>\n",
       "      <th>Type</th>\n",
       "      <th>Description</th>\n",
       "      <th>Policy_active_flag</th>\n",
       "      <th>Sum_assured</th>\n",
       "      <th>Tenure</th>\n",
       "      <th>Policy_type</th>\n",
       "    </tr>\n",
       "  </thead>\n",
       "  <tbody>\n",
       "    <tr>\n",
       "      <th>0</th>\n",
       "      <td>100</td>\n",
       "      <td>HomeShield</td>\n",
       "      <td>Rent and Owned</td>\n",
       "      <td>Comprehensive coverage for the structure of th...</td>\n",
       "      <td>Active</td>\n",
       "      <td>300000</td>\n",
       "      <td>12</td>\n",
       "      <td>Home</td>\n",
       "    </tr>\n",
       "    <tr>\n",
       "      <th>1</th>\n",
       "      <td>101</td>\n",
       "      <td>SecureHome</td>\n",
       "      <td>Owned</td>\n",
       "      <td>Premium policy offering high coverage limits, ...</td>\n",
       "      <td>Active</td>\n",
       "      <td>500000</td>\n",
       "      <td>24</td>\n",
       "      <td>Home</td>\n",
       "    </tr>\n",
       "    <tr>\n",
       "      <th>2</th>\n",
       "      <td>102</td>\n",
       "      <td>SafeHaven Insurance</td>\n",
       "      <td>Rent and Owned</td>\n",
       "      <td>Basic coverage for the homes structure and ess...</td>\n",
       "      <td>Active</td>\n",
       "      <td>250000</td>\n",
       "      <td>12</td>\n",
       "      <td>Home</td>\n",
       "    </tr>\n",
       "    <tr>\n",
       "      <th>3</th>\n",
       "      <td>103</td>\n",
       "      <td>Liberty Home Protection</td>\n",
       "      <td>Owned</td>\n",
       "      <td>Standard policy covering damages from fire, va...</td>\n",
       "      <td>Inactive</td>\n",
       "      <td>400000</td>\n",
       "      <td>12</td>\n",
       "      <td>Home</td>\n",
       "    </tr>\n",
       "    <tr>\n",
       "      <th>4</th>\n",
       "      <td>104</td>\n",
       "      <td>EverGuard Home Insurance</td>\n",
       "      <td>Owned</td>\n",
       "      <td>Long-term coverage with benefits like extended...</td>\n",
       "      <td>Active</td>\n",
       "      <td>350000</td>\n",
       "      <td>36</td>\n",
       "      <td>Home</td>\n",
       "    </tr>\n",
       "  </tbody>\n",
       "</table>\n",
       "</div>"
      ],
      "text/plain": [
       "   Policy_id                      Name            Type  \\\n",
       "0        100                HomeShield  Rent and Owned   \n",
       "1        101                SecureHome           Owned   \n",
       "2        102       SafeHaven Insurance  Rent and Owned   \n",
       "3        103   Liberty Home Protection           Owned   \n",
       "4        104  EverGuard Home Insurance           Owned   \n",
       "\n",
       "                                         Description Policy_active_flag  \\\n",
       "0  Comprehensive coverage for the structure of th...             Active   \n",
       "1  Premium policy offering high coverage limits, ...             Active   \n",
       "2  Basic coverage for the homes structure and ess...             Active   \n",
       "3  Standard policy covering damages from fire, va...           Inactive   \n",
       "4  Long-term coverage with benefits like extended...             Active   \n",
       "\n",
       "   Sum_assured  Tenure Policy_type  \n",
       "0       300000      12        Home  \n",
       "1       500000      24        Home  \n",
       "2       250000      12        Home  \n",
       "3       400000      12        Home  \n",
       "4       350000      36        Home  "
      ]
     },
     "execution_count": 19,
     "metadata": {},
     "output_type": "execute_result"
    }
   ],
   "source": [
    "home.head()"
   ]
  },
  {
   "cell_type": "code",
   "execution_count": 32,
   "id": "aff3c4a2-4a78-4ead-b42d-fff93a7c12ff",
   "metadata": {},
   "outputs": [
    {
     "data": {
      "text/plain": [
       "(12, 8)"
      ]
     },
     "execution_count": 32,
     "metadata": {},
     "output_type": "execute_result"
    }
   ],
   "source": [
    "home.shape"
   ]
  },
  {
   "cell_type": "code",
   "execution_count": 21,
   "id": "10af5bb9-2e32-4ccc-a3fc-f9e0ac39e582",
   "metadata": {},
   "outputs": [
    {
     "name": "stdout",
     "output_type": "stream",
     "text": [
      "INSERT INTO HomePolicy_detail VALUES (100,'HomeShield','Rent and Owned','Comprehensive coverage for the structure of the home, personal belongings, liability protection, and additional living expenses in case of temporary displacement due to covered events.','Active',300000,12,'Home');\n",
      "INSERT INTO HomePolicy_detail VALUES (101,'SecureHome','Owned','Premium policy offering high coverage limits, including protection against natural disasters, theft, and personal injury liability, with options for custom add-ons.','Active',500000,24,'Home');\n",
      "INSERT INTO HomePolicy_detail VALUES (102,'SafeHaven Insurance','Rent and Owned','Basic coverage for the homes structure and essential belongings, suitable for homeowners seeking affordable protection against common risks.','Active',250000,12,'Home');\n",
      "INSERT INTO HomePolicy_detail VALUES (103,'Liberty Home Protection','Owned','Standard policy covering damages from fire, vandalism, and certain natural disasters, along with liability coverage for accidents on the property.','Inactive',400000,12,'Home');\n",
      "INSERT INTO HomePolicy_detail VALUES (104,'EverGuard Home Insurance','Owned','Long-term coverage with benefits like extended replacement cost, which ensures the home can be rebuilt to its original condition even if construction costs rise.','Active',350000,36,'Home');\n",
      "INSERT INTO HomePolicy_detail VALUES (105,'Guardian Home Assurance','Rent and Owned','Policy offering protection against various perils, including water damage, mold, and coverage for high-value items like jewelry and artwork.','Active',200000,12,'Home');\n",
      "INSERT INTO HomePolicy_detail VALUES (106,'National Home Protection','Rent','Short-term policy ideal for renters, offering coverage for personal belongings, liability, and temporary living expenses in case of covered events.','Active',100000,24,'Home');\n",
      "INSERT INTO HomePolicy_detail VALUES (107,'Reliable Home Insurance','Owned','Policy tailored for homeowners with additional structures on their property, such as detached garages or sheds, providing coverage for both the main home and other structures.','Active',100000,24,'Home');\n",
      "INSERT INTO HomePolicy_detail VALUES (108,'SmartGuard Home Insurance','Owned','Customizable policy allowing homeowners to choose specific coverage limits and endorsements to protect unique assets and accommodate individual needs.','Inactive',350000,12,'Home');\n",
      "INSERT INTO HomePolicy_detail VALUES (109,'SafeHome Solutions','Owned','High-value policy with features like identity theft protection, credit card coverage, and coverage for unauthorized transactions due to cybercrime.','Active',555000,12,'Home');\n",
      "INSERT INTO HomePolicy_detail VALUES (110,'HomeAssure Services','Rent','Policy offering coverage for home systems and appliances, such as HVAC, electrical, and plumbing, providing financial protection against unexpected repair or replacement costs.','Active',400000,12,'Home');\n",
      "INSERT INTO HomePolicy_detail VALUES (111,'One Home Insurance','Owned','Long-term policy with perks like extended coverage for valuables, home office equipment, and reimbursement for temporary housing and meals during repairs.','Inactive',250000,12,'Home');\n"
     ]
    }
   ],
   "source": [
    "for Policy_id,Name,Type,Description,Policy_active_flag,Sum_assured,Tenure,Policy_type in home.values.tolist():\n",
    "    print(\"INSERT INTO HomePolicy_detail VALUES ({},'{}','{}','{}','{}',{},{},'{}');\".format(Policy_id,Name,Type,Description,Policy_active_flag,Sum_assured,Tenure,Policy_type))"
   ]
  },
  {
   "cell_type": "markdown",
   "id": "b68537eb-6d2e-49a8-9fdb-fdedf42f65fe",
   "metadata": {},
   "source": [
    "**DDL - Finance_details**\n",
    "\n",
    "CREATE TABLE IF NOT EXISTS Finance_details (<br>\n",
    "  SSN integer,<br>\n",
    "  Customer_id integer PRIMARY KEY,<br>\n",
    "  Account_Number varchar(255),<br>\n",
    "  Income integer,<br>\n",
    "  Bank_name varchar(255),<br>\n",
    "  Credit_History varchar(255),<br>\n",
    "  FOREIGN KEY (Customer_id) REFERENCES Customer(Customer_id)\n",
    "); "
   ]
  },
  {
   "cell_type": "code",
   "execution_count": 22,
   "id": "22fe06f4-da0a-4257-9eed-21214ad23c14",
   "metadata": {},
   "outputs": [],
   "source": [
    "finance = pd.read_csv('finance.csv')"
   ]
  },
  {
   "cell_type": "code",
   "execution_count": 23,
   "id": "4c2136e3-aa4d-4cb2-b6f7-39701a23ca0d",
   "metadata": {},
   "outputs": [
    {
     "data": {
      "text/html": [
       "<div>\n",
       "<style scoped>\n",
       "    .dataframe tbody tr th:only-of-type {\n",
       "        vertical-align: middle;\n",
       "    }\n",
       "\n",
       "    .dataframe tbody tr th {\n",
       "        vertical-align: top;\n",
       "    }\n",
       "\n",
       "    .dataframe thead th {\n",
       "        text-align: right;\n",
       "    }\n",
       "</style>\n",
       "<table border=\"1\" class=\"dataframe\">\n",
       "  <thead>\n",
       "    <tr style=\"text-align: right;\">\n",
       "      <th></th>\n",
       "      <th>SSN</th>\n",
       "      <th>Customer_id</th>\n",
       "      <th>Account_Number</th>\n",
       "      <th>Income</th>\n",
       "      <th>Bank_name</th>\n",
       "      <th>Credit_History</th>\n",
       "    </tr>\n",
       "  </thead>\n",
       "  <tbody>\n",
       "    <tr>\n",
       "      <th>0</th>\n",
       "      <td>74216507</td>\n",
       "      <td>58082</td>\n",
       "      <td>6668080649</td>\n",
       "      <td>58317</td>\n",
       "      <td>Wells Fargo</td>\n",
       "      <td>Good</td>\n",
       "    </tr>\n",
       "    <tr>\n",
       "      <th>1</th>\n",
       "      <td>465939571</td>\n",
       "      <td>74341</td>\n",
       "      <td>2475885785</td>\n",
       "      <td>30788</td>\n",
       "      <td>Citigroup</td>\n",
       "      <td>Standard</td>\n",
       "    </tr>\n",
       "    <tr>\n",
       "      <th>2</th>\n",
       "      <td>813918749</td>\n",
       "      <td>77471</td>\n",
       "      <td>6239350355</td>\n",
       "      <td>106733</td>\n",
       "      <td>Chase</td>\n",
       "      <td>Good</td>\n",
       "    </tr>\n",
       "    <tr>\n",
       "      <th>3</th>\n",
       "      <td>853171579</td>\n",
       "      <td>78932</td>\n",
       "      <td>6663340180</td>\n",
       "      <td>4148862</td>\n",
       "      <td>TD Bank</td>\n",
       "      <td>Good</td>\n",
       "    </tr>\n",
       "    <tr>\n",
       "      <th>4</th>\n",
       "      <td>226770587</td>\n",
       "      <td>94613</td>\n",
       "      <td>3433461290</td>\n",
       "      <td>88640</td>\n",
       "      <td>Bank of America</td>\n",
       "      <td>Good</td>\n",
       "    </tr>\n",
       "  </tbody>\n",
       "</table>\n",
       "</div>"
      ],
      "text/plain": [
       "         SSN  Customer_id  Account_Number   Income        Bank_name  \\\n",
       "0   74216507        58082      6668080649    58317      Wells Fargo   \n",
       "1  465939571        74341      2475885785    30788        Citigroup   \n",
       "2  813918749        77471      6239350355   106733            Chase   \n",
       "3  853171579        78932      6663340180  4148862          TD Bank   \n",
       "4  226770587        94613      3433461290    88640  Bank of America   \n",
       "\n",
       "  Credit_History  \n",
       "0           Good  \n",
       "1       Standard  \n",
       "2           Good  \n",
       "3           Good  \n",
       "4           Good  "
      ]
     },
     "execution_count": 23,
     "metadata": {},
     "output_type": "execute_result"
    }
   ],
   "source": [
    "finance.head()"
   ]
  },
  {
   "cell_type": "code",
   "execution_count": 33,
   "id": "1fc56478-7fee-46d1-a971-ff8d1e6e803f",
   "metadata": {},
   "outputs": [
    {
     "data": {
      "text/plain": [
       "(50, 6)"
      ]
     },
     "execution_count": 33,
     "metadata": {},
     "output_type": "execute_result"
    }
   ],
   "source": [
    "finance.shape"
   ]
  },
  {
   "cell_type": "code",
   "execution_count": 24,
   "id": "e4c5a956-625d-4d4e-b95b-ba804f940d2a",
   "metadata": {},
   "outputs": [
    {
     "name": "stdout",
     "output_type": "stream",
     "text": [
      "INSERT INTO Finance_details VALUES (74216507,58082,'6668080649',58317,'Wells Fargo','Good');\n",
      "INSERT INTO Finance_details VALUES (465939571,74341,'2475885785',30788,'Citigroup','Standard');\n",
      "INSERT INTO Finance_details VALUES (813918749,77471,'6239350355',106733,'Chase','Good');\n",
      "INSERT INTO Finance_details VALUES (853171579,78932,'6663340180',4148862,'TD Bank','Good');\n",
      "INSERT INTO Finance_details VALUES (226770587,94613,'3433461290',88640,'Bank of America','Good');\n",
      "INSERT INTO Finance_details VALUES (352674436,109075,'4450371309',39642,'Bank of America','Good');\n",
      "INSERT INTO Finance_details VALUES (212322085,114971,'1631204329',29470,'Wells Fargo','Good');\n",
      "INSERT INTO Finance_details VALUES (727409990,144402,'6158965543',66567,'TD Bank','Good');\n",
      "INSERT INTO Finance_details VALUES (925441671,166248,'4674612116',57983,'Bank of America','Bad');\n",
      "INSERT INTO Finance_details VALUES (204142702,174408,'7788575072',20186,'Citigroup','Good');\n",
      "INSERT INTO Finance_details VALUES (405467599,176254,'5316421672',32285,'TD Bank','Good');\n",
      "INSERT INTO Finance_details VALUES (860361556,249650,'1238315826',20574,'TD Bank','Standard');\n",
      "INSERT INTO Finance_details VALUES (308388791,289060,'8898570629',12600,'Wells Fargo','Good');\n",
      "INSERT INTO Finance_details VALUES (898940497,293654,'7482284503',43070,'Chase','Standard');\n",
      "INSERT INTO Finance_details VALUES (101113105,319355,'1590610819',35548,'Chase','Standard');\n",
      "INSERT INTO Finance_details VALUES (496445947,336850,'4738448888',92047,'Citigroup','Standard');\n",
      "INSERT INTO Finance_details VALUES (16732103,345273,'5264379216',12910,'Chase','Good');\n",
      "INSERT INTO Finance_details VALUES (477905881,352841,'8017327721',34848,'Wells Fargo','Good');\n",
      "INSERT INTO Finance_details VALUES (330960638,358893,'8296876239',71681,'TD Bank','Standard');\n",
      "INSERT INTO Finance_details VALUES (87226137,365390,'5461846948',72559,'Bank of America','Standard');\n",
      "INSERT INTO Finance_details VALUES (616368188,389080,'2607184695',92047,'Bank of America','Standard');\n",
      "INSERT INTO Finance_details VALUES (198089791,415216,'3321119986',20601508,'Wells Fargo','Good');\n",
      "INSERT INTO Finance_details VALUES (558251337,492977,'2005036558',10183,'TD Bank','Good');\n",
      "INSERT INTO Finance_details VALUES (772589547,499661,'1702237609',42172,'Bank of America','Standard');\n",
      "INSERT INTO Finance_details VALUES (992492793,532909,'7884101536',28572,'Wells Fargo','Good');\n",
      "INSERT INTO Finance_details VALUES (908690212,538409,'3385123187',131313,'Bank of America','Standard');\n",
      "INSERT INTO Finance_details VALUES (331605414,554593,'1463973416',143163,'Bank of America','Good');\n",
      "INSERT INTO Finance_details VALUES (486071289,555849,'8404188141',19515,'Bank of America','Bad');\n",
      "INSERT INTO Finance_details VALUES (251770979,591642,'9144957778',34290,'TD Bank','Bad');\n",
      "INSERT INTO Finance_details VALUES (547237195,621200,'8889194720',19300,'Wells Fargo','Bad');\n",
      "INSERT INTO Finance_details VALUES (389894542,628418,'8594077125',54392,'Citigroup','Bad');\n",
      "INSERT INTO Finance_details VALUES (755517133,632251,'9174445104',18628,'TD Bank','Standard');\n",
      "INSERT INTO Finance_details VALUES (755180308,638484,'5110480157',97791,'Chase','Good');\n",
      "INSERT INTO Finance_details VALUES (423776457,640537,'4070604401',114838,'TD Bank','Good');\n",
      "INSERT INTO Finance_details VALUES (716354628,719439,'7489280966',73928,'Wells Fargo','Standard');\n",
      "INSERT INTO Finance_details VALUES (518012262,733572,'3546730823',30788,'Bank of America','Standard');\n",
      "INSERT INTO Finance_details VALUES (180887800,778711,'6120588712',30690,'Citigroup','Good');\n",
      "INSERT INTO Finance_details VALUES (548039919,830875,'3497327023',20788,'Citigroup','Bad');\n",
      "INSERT INTO Finance_details VALUES (794174490,847339,'1405124237',33751,'Wells Fargo','Good');\n",
      "INSERT INTO Finance_details VALUES (397455329,867938,'6898823636',29470,'Chase','Standard');\n",
      "INSERT INTO Finance_details VALUES (507344117,871428,'1293729161',31371,'Chase','Good');\n",
      "INSERT INTO Finance_details VALUES (62293192,872585,'3442289093',15566,'Citigroup','Good');\n",
      "INSERT INTO Finance_details VALUES (878906321,915790,'2633498674',31994,'Wells Fargo','Standard');\n",
      "INSERT INTO Finance_details VALUES (147766929,930301,'5062457584',25546,'Chase','Bad');\n",
      "INSERT INTO Finance_details VALUES (835416871,950610,'7899232129',71681,'Citigroup','Standard');\n",
      "INSERT INTO Finance_details VALUES (605639678,972654,'3995617909',10183,'Citigroup','Bad');\n",
      "INSERT INTO Finance_details VALUES (761113016,974101,'4373764648',8702,'TD Bank','Bad');\n",
      "INSERT INTO Finance_details VALUES (744117914,979749,'7821448415',34081,'Citigroup','Good');\n",
      "INSERT INTO Finance_details VALUES (837455178,981115,'6144703129',12987,'Chase','Standard');\n",
      "INSERT INTO Finance_details VALUES (224487837,987673,'6247488842',19114,'Chase','Good');\n"
     ]
    }
   ],
   "source": [
    "for  SSN,Customer_id,Account_Number,Income,Bank_name,Credit_History in finance.values.tolist():\n",
    "    print(\"INSERT INTO Finance_details VALUES ({},{},'{}',{},'{}','{}');\".format(SSN,Customer_id,Account_Number,Income,Bank_name,Credit_History))"
   ]
  },
  {
   "cell_type": "markdown",
   "id": "a6999b9a-6b4f-401d-abfd-a1fd86ede8c4",
   "metadata": {},
   "source": [
    "**DDL - Loan**\n",
    "\n",
    "CREATE TABLE IF NOT EXISTS Loan(<br>\r\n",
    "  LoanId varchar(255) PRIMARY KEY<br>,\r\n",
    "  LoanType varchar(255<br>),\r\n",
    "  Tenure integ<br>er,\r\n",
    "  Amount inte<br>ger,\r\n",
    "  Customer_id int<br>eger,\r\n",
    "  FOREIGN KEY (Customer_id) REFERENCES Customer(Customer_id)\r\n",
    ");"
   ]
  },
  {
   "cell_type": "code",
   "execution_count": 25,
   "id": "e532e701-70a6-438d-a157-41e104b1227e",
   "metadata": {},
   "outputs": [],
   "source": [
    "loan = pd.read_csv('loan.csv')"
   ]
  },
  {
   "cell_type": "code",
   "execution_count": 26,
   "id": "032d8c9c-cd24-414a-89e6-09a189578002",
   "metadata": {},
   "outputs": [
    {
     "data": {
      "text/html": [
       "<div>\n",
       "<style scoped>\n",
       "    .dataframe tbody tr th:only-of-type {\n",
       "        vertical-align: middle;\n",
       "    }\n",
       "\n",
       "    .dataframe tbody tr th {\n",
       "        vertical-align: top;\n",
       "    }\n",
       "\n",
       "    .dataframe thead th {\n",
       "        text-align: right;\n",
       "    }\n",
       "</style>\n",
       "<table border=\"1\" class=\"dataframe\">\n",
       "  <thead>\n",
       "    <tr style=\"text-align: right;\">\n",
       "      <th></th>\n",
       "      <th>LoanId</th>\n",
       "      <th>LoanType</th>\n",
       "      <th>Tenure</th>\n",
       "      <th>Amount</th>\n",
       "      <th>Customer_id</th>\n",
       "    </tr>\n",
       "  </thead>\n",
       "  <tbody>\n",
       "    <tr>\n",
       "      <th>0</th>\n",
       "      <td>LP001015</td>\n",
       "      <td>Home</td>\n",
       "      <td>30</td>\n",
       "      <td>110000</td>\n",
       "      <td>987673</td>\n",
       "    </tr>\n",
       "    <tr>\n",
       "      <th>1</th>\n",
       "      <td>LP001022</td>\n",
       "      <td>Vehicle</td>\n",
       "      <td>30</td>\n",
       "      <td>126000</td>\n",
       "      <td>987673</td>\n",
       "    </tr>\n",
       "    <tr>\n",
       "      <th>2</th>\n",
       "      <td>LP001031</td>\n",
       "      <td>Home</td>\n",
       "      <td>30</td>\n",
       "      <td>208000</td>\n",
       "      <td>352841</td>\n",
       "    </tr>\n",
       "    <tr>\n",
       "      <th>3</th>\n",
       "      <td>LP001035</td>\n",
       "      <td>Home</td>\n",
       "      <td>30</td>\n",
       "      <td>100000</td>\n",
       "      <td>554593</td>\n",
       "    </tr>\n",
       "    <tr>\n",
       "      <th>4</th>\n",
       "      <td>LP001051</td>\n",
       "      <td>Home</td>\n",
       "      <td>30</td>\n",
       "      <td>78000</td>\n",
       "      <td>554593</td>\n",
       "    </tr>\n",
       "  </tbody>\n",
       "</table>\n",
       "</div>"
      ],
      "text/plain": [
       "     LoanId LoanType  Tenure  Amount  Customer_id\n",
       "0  LP001015     Home      30  110000       987673\n",
       "1  LP001022  Vehicle      30  126000       987673\n",
       "2  LP001031     Home      30  208000       352841\n",
       "3  LP001035     Home      30  100000       554593\n",
       "4  LP001051     Home      30   78000       554593"
      ]
     },
     "execution_count": 26,
     "metadata": {},
     "output_type": "execute_result"
    }
   ],
   "source": [
    "loan.head()"
   ]
  },
  {
   "cell_type": "code",
   "execution_count": 28,
   "id": "0beb8532-ffce-4380-8e5c-006e41c96045",
   "metadata": {},
   "outputs": [
    {
     "data": {
      "text/plain": [
       "(55, 5)"
      ]
     },
     "execution_count": 28,
     "metadata": {},
     "output_type": "execute_result"
    }
   ],
   "source": [
    "loan.shape"
   ]
  },
  {
   "cell_type": "code",
   "execution_count": 27,
   "id": "c3aebe08-22d8-44aa-ab8f-b3f4927f932f",
   "metadata": {},
   "outputs": [
    {
     "name": "stdout",
     "output_type": "stream",
     "text": [
      "INSERT INTO Loan VALUES ('LP001015','Home',30,110000,987673);\n",
      "INSERT INTO Loan VALUES ('LP001022','Vehicle',30,126000,987673);\n",
      "INSERT INTO Loan VALUES ('LP001031','Home',30,208000,352841);\n",
      "INSERT INTO Loan VALUES ('LP001035','Home',30,100000,554593);\n",
      "INSERT INTO Loan VALUES ('LP001051','Home',30,78000,554593);\n",
      "INSERT INTO Loan VALUES ('LP001054','Home',30,152000,554593);\n",
      "INSERT INTO Loan VALUES ('LP001055','Home',30,59000,778711);\n",
      "INSERT INTO Loan VALUES ('LP001056','Vehicle',30,147000,78932);\n",
      "INSERT INTO Loan VALUES ('LP001059','Home',20,280000,319355);\n",
      "INSERT INTO Loan VALUES ('LP001067','Home',30,123000,719439);\n",
      "INSERT INTO Loan VALUES ('LP001078','Vehicle',30,90000,538409);\n",
      "INSERT INTO Loan VALUES ('LP001082','Home',30,162000,538409);\n",
      "INSERT INTO Loan VALUES ('LP001083','Home',15,40000,979749);\n",
      "INSERT INTO Loan VALUES ('LP001094','Vehicle',30,166000,979749);\n",
      "INSERT INTO Loan VALUES ('LP001096','Vehicle',30,124000,979749);\n",
      "INSERT INTO Loan VALUES ('LP001099','Vehicle',30,131000,640537);\n",
      "INSERT INTO Loan VALUES ('LP001105','Vehicle',30,200000,94613);\n",
      "INSERT INTO Loan VALUES ('LP001107','Vehicle',30,126000,628418);\n",
      "INSERT INTO Loan VALUES ('LP001108','Vehicle',30,300000,974101);\n",
      "INSERT INTO Loan VALUES ('LP001115','Vehicle',15,100000,930301);\n",
      "INSERT INTO Loan VALUES ('LP001121','Home',30,48000,176254);\n",
      "INSERT INTO Loan VALUES ('LP001124','Home',15,28000,176254);\n",
      "INSERT INTO Loan VALUES ('LP001128','Home',30,101000,176254);\n",
      "INSERT INTO Loan VALUES ('LP001135','Home',30,125000,555849);\n",
      "INSERT INTO Loan VALUES ('LP001149','Home',30,290000,555849);\n",
      "INSERT INTO Loan VALUES ('LP001153','Home',30,148000,289060);\n",
      "INSERT INTO Loan VALUES ('LP001163','Home',30,140000,166248);\n",
      "INSERT INTO Loan VALUES ('LP001169','Home',30,275000,830875);\n",
      "INSERT INTO Loan VALUES ('LP001174','Vehicle',30,57000,591642);\n",
      "INSERT INTO Loan VALUES ('LP001176','Vehicle',15,125000,293654);\n",
      "INSERT INTO Loan VALUES ('LP001177','Home',30,75000,58082);\n",
      "INSERT INTO Loan VALUES ('LP001183','Home',30,192000,58082);\n",
      "INSERT INTO Loan VALUES ('LP001185','Home',30,152000,950610);\n",
      "INSERT INTO Loan VALUES ('LP001187','Home',30,158000,358893);\n",
      "INSERT INTO Loan VALUES ('LP001190','Home',30,101000,114971);\n",
      "INSERT INTO Loan VALUES ('LP001203','Vehicle',30,176000,114971);\n",
      "INSERT INTO Loan VALUES ('LP001208','Vehicle',15,185000,114971);\n",
      "INSERT INTO Loan VALUES ('LP001210','Vehicle',30,90000,365390);\n",
      "INSERT INTO Loan VALUES ('LP001211','Vehicle',30,116000,872585);\n",
      "INSERT INTO Loan VALUES ('LP001219','Vehicle',30,138000,144402);\n",
      "INSERT INTO Loan VALUES ('LP001220','Home',30,100000,733572);\n",
      "INSERT INTO Loan VALUES ('LP001221','Home',30,110000,733572);\n",
      "INSERT INTO Loan VALUES ('LP001226','Home',30,90000,733572);\n",
      "INSERT INTO Loan VALUES ('LP001230','Home',30,200000,249650);\n",
      "INSERT INTO Loan VALUES ('LP001231','Home',30,84000,249650);\n",
      "INSERT INTO Loan VALUES ('LP001232','Home',0,185000,249650);\n",
      "INSERT INTO Loan VALUES ('LP001237','Home',30,162000,249650);\n",
      "INSERT INTO Loan VALUES ('LP001242','Home',30,108000,499661);\n",
      "INSERT INTO Loan VALUES ('LP001268','Home',0,187000,499661);\n",
      "INSERT INTO Loan VALUES ('LP001270','Home',30,187000,638484);\n",
      "INSERT INTO Loan VALUES ('LP001284','Home',30,124000,621200);\n",
      "INSERT INTO Loan VALUES ('LP001287','Home',30,120000,621200);\n",
      "INSERT INTO Loan VALUES ('LP001291','Home',30,160000,621200);\n",
      "INSERT INTO Loan VALUES ('LP001298','Home',15,30000,847339);\n",
      "INSERT INTO Loan VALUES ('LP001312','Vehicle',30,92000,847339);\n"
     ]
    }
   ],
   "source": [
    "for LoanId, LoanType, Tenure, Amount, Customer_id in loan.values.tolist():\n",
    "    print(\"INSERT INTO Loan VALUES ('{}','{}',{},{},{});\".format(LoanId, LoanType, Tenure, Amount, Customer_id))"
   ]
  },
  {
   "cell_type": "code",
   "execution_count": null,
   "id": "ba369621-1996-467d-9cd9-d73a76b96c22",
   "metadata": {},
   "outputs": [],
   "source": []
  }
 ],
 "metadata": {
  "kernelspec": {
   "display_name": "Python 3 (ipykernel)",
   "language": "python",
   "name": "python3"
  },
  "language_info": {
   "codemirror_mode": {
    "name": "ipython",
    "version": 3
   },
   "file_extension": ".py",
   "mimetype": "text/x-python",
   "name": "python",
   "nbconvert_exporter": "python",
   "pygments_lexer": "ipython3",
   "version": "3.9.12"
  }
 },
 "nbformat": 4,
 "nbformat_minor": 5
}
